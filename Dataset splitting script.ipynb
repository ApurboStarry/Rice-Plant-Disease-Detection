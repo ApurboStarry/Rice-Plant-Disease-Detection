{
 "cells": [
  {
   "cell_type": "code",
   "execution_count": 40,
   "id": "bae7d6ad",
   "metadata": {},
   "outputs": [],
   "source": [
    "import os, random\n",
    "from glob import glob\n",
    "from pathlib import Path"
   ]
  },
  {
   "cell_type": "code",
   "execution_count": 4,
   "id": "6ccce284",
   "metadata": {},
   "outputs": [],
   "source": [
    "def getNumberOfFilesInFolder(folderPath):\n",
    "    return len([name for name in os.listdir(folderPath) if os.path.isfile(os.path.join(folderPath, name))])"
   ]
  },
  {
   "cell_type": "code",
   "execution_count": 5,
   "id": "760885f5",
   "metadata": {},
   "outputs": [
    {
     "name": "stdout",
     "output_type": "stream",
     "text": [
      "71\n"
     ]
    }
   ],
   "source": [
    "print(getNumberOfFilesInFolder(\"Dataset/Actual/BPH\"))"
   ]
  },
  {
   "cell_type": "code",
   "execution_count": 10,
   "id": "8b937c09",
   "metadata": {},
   "outputs": [],
   "source": [
    "def getARandomFileFromFolder(folderPath):\n",
    "    return random.choice(os.listdir(folderPath))"
   ]
  },
  {
   "cell_type": "code",
   "execution_count": 15,
   "id": "75fc4059",
   "metadata": {},
   "outputs": [
    {
     "name": "stdout",
     "output_type": "stream",
     "text": [
      "BLB1_fa5ea7f8-76b9-4e80-9228-34f449e7e009.jpeg\n"
     ]
    }
   ],
   "source": [
    "print(getARandomFileFromFolder(\"Dataset/train/BLB\"))"
   ]
  },
  {
   "cell_type": "code",
   "execution_count": 43,
   "id": "5425a70e",
   "metadata": {},
   "outputs": [
    {
     "name": "stdout",
     "output_type": "stream",
     "text": [
      "Neck_Blast\n",
      "BPH\n",
      "BLB\n",
      "False_Smut\n",
      "Brown_Spot\n",
      "Hispa\n",
      "Healthy_Plant\n",
      "Stemborer\n",
      "Sheath_Blight_Rot\n"
     ]
    }
   ],
   "source": [
    "sourceDataFolder = \"Dataset/train\"\n",
    "for folderName in os.listdir(sourceDataFolder):\n",
    "        print(folderName)"
   ]
  },
  {
   "cell_type": "code",
   "execution_count": 42,
   "id": "41cf2fe1",
   "metadata": {},
   "outputs": [],
   "source": [
    "def moveFile(fileName, sourceFolderPath, destinationFolderPath):\n",
    "    sourceAbsPath = sourceFolderPath + \"/\" + fileName\n",
    "    destinationAbsPath = destinationFolderPath + \"/\" + fileName\n",
    "    \n",
    "    Path(sourceAbsPath).rename(destinationAbsPath)"
   ]
  },
  {
   "cell_type": "code",
   "execution_count": 46,
   "id": "f6e0b89e",
   "metadata": {},
   "outputs": [],
   "source": [
    "moveFile(\"Algorithms Unlocked.jpg\", \"/home/apurbo/Codes/Python/ML Project/Dataset/train/BLB\", \"/home/apurbo/Codes/Python/ML Project/Dataset/test/BLB\")"
   ]
  },
  {
   "cell_type": "code",
   "execution_count": 17,
   "id": "956fccac",
   "metadata": {},
   "outputs": [],
   "source": [
    "# os.path.abspath(\"Dataset/train/BLB/BLB1_fa5ea7f8-76b9-4e80-9228-34f449e7e009.jpeg\")\n",
    "\n",
    "def getAbsPath(fileName, folderPath):\n",
    "    return os.path.abspath(folderPath + fileName)"
   ]
  },
  {
   "cell_type": "code",
   "execution_count": 19,
   "id": "9185f467",
   "metadata": {},
   "outputs": [
    {
     "data": {
      "text/plain": [
       "'/home/apurbo/Codes/Python/ML Project/Dataset/train/BLB'"
      ]
     },
     "execution_count": 19,
     "metadata": {},
     "output_type": "execute_result"
    }
   ],
   "source": [
    "getAbsPath(\"\", \"Dataset/train/BLB\")"
   ]
  },
  {
   "cell_type": "code",
   "execution_count": 43,
   "id": "2ea4c091",
   "metadata": {},
   "outputs": [],
   "source": [
    "# sourceFolderPath = \"Dataset/train/BLB\"\n",
    "# destinationFolderPath = \"Dataset/test/BLB\"\n",
    "# extractionPercentage = 0.2\n",
    "def chooseImageAndMove(sourceFolderAbsPath, destinationFolderAbsPath, extractionPercentage):\n",
    "    numberOfImages = getNumberOfFilesInFolder(sourceFolderAbsPath)\n",
    "    numberOfImagesToBeExtracted = int(numberOfImages * extractionPercentage)\n",
    "    \n",
    "    for i in range(numberOfImagesToBeExtracted):\n",
    "        # choose a random image\n",
    "        randomImageName = getARandomFileFromFolder(sourceFolderAbsPath)\n",
    "        # move it\n",
    "        moveFile(randomImageName, sourceFolderAbsPath, destinationFolderAbsPath)\n",
    "        "
   ]
  },
  {
   "cell_type": "code",
   "execution_count": 60,
   "id": "77e56833",
   "metadata": {},
   "outputs": [],
   "source": [
    "chooseImageAndMove(\"/home/apurbo/Codes/Python/ML Project/Dataset/train/BLB\", \"/home/apurbo/Codes/Python/ML Project/Dataset/test/BLB\", 0.2)"
   ]
  },
  {
   "cell_type": "code",
   "execution_count": 56,
   "id": "9c1185bb",
   "metadata": {},
   "outputs": [],
   "source": [
    "def createFolder(folderName, destinationFolderPath):\n",
    "    newPath = os.path.join(destinationFolderPath, folderName)\n",
    "    if not os.path.exists(newPath):\n",
    "        os.mkdir(newPath)"
   ]
  },
  {
   "cell_type": "code",
   "execution_count": 61,
   "id": "141cbac8",
   "metadata": {},
   "outputs": [],
   "source": [
    "# sourceDataFolder = \"Dataset/train\"\n",
    "# destinationDataFolder = \"Dataset/test\"\n",
    "# extractionPercentage = 0.2\n",
    "def extractTestImages(sourceDataFolder, destinationDataFolder, extractionPercentage):\n",
    "    # for folders in sourceDataFolder\n",
    "        # extract extractionPercentage images and move them to the destinationDataFolder\n",
    "        \n",
    "    for folderName in os.listdir(sourceDataFolder):\n",
    "        createFolder(folderName, destinationDataFolder)\n",
    "        \n",
    "        sourceFolderAbsPath = getAbsPath(\"\", sourceDataFolder + \"/\" + folderName)\n",
    "        destinationFolderAbsPath = getAbsPath(\"\", destinationDataFolder + \"/\" + folderName)\n",
    "        \n",
    "        chooseImageAndMove(sourceFolderAbsPath, destinationFolderAbsPath, extractionPercentage)"
   ]
  },
  {
   "cell_type": "code",
   "execution_count": 62,
   "id": "bc4ca4ee",
   "metadata": {},
   "outputs": [],
   "source": [
    "extractTestImages(\"Dataset/train\", \"Dataset/test\", 0.2)"
   ]
  }
 ],
 "metadata": {
  "kernelspec": {
   "display_name": "Python 3",
   "language": "python",
   "name": "python3"
  },
  "language_info": {
   "codemirror_mode": {
    "name": "ipython",
    "version": 3
   },
   "file_extension": ".py",
   "mimetype": "text/x-python",
   "name": "python",
   "nbconvert_exporter": "python",
   "pygments_lexer": "ipython3",
   "version": "3.8.8"
  }
 },
 "nbformat": 4,
 "nbformat_minor": 5
}
